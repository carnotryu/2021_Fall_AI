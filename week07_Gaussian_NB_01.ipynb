{
  "nbformat": 4,
  "nbformat_minor": 0,
  "metadata": {
    "colab": {
      "name": "week07_Gaussian_NB_01.ipynb",
      "provenance": [],
      "collapsed_sections": [],
      "authorship_tag": "ABX9TyPtGEMHemCw3XHCxT8HAONs"
    },
    "kernelspec": {
      "name": "python3",
      "display_name": "Python 3"
    },
    "language_info": {
      "name": "python"
    }
  },
  "cells": [
    {
      "cell_type": "markdown",
      "metadata": {
        "id": "1X7WxICJ0DiV"
      },
      "source": [
        "### Import Packages and Modules"
      ]
    },
    {
      "cell_type": "code",
      "metadata": {
        "id": "gexXim_E82fa"
      },
      "source": [
        "import pandas as pd\n",
        "import numpy as np\n",
        "from sklearn.datasets import load_iris\n",
        "import matplotlib.pyplot as plt\n",
        "from sklearn.model_selection import train_test_split\n",
        "from sklearn.naive_bayes import GaussianNB"
      ],
      "execution_count": 1,
      "outputs": []
    },
    {
      "cell_type": "markdown",
      "metadata": {
        "id": "HRNYzMezKxWt"
      },
      "source": [
        "### Iris 데이터 불러오기, Train/Test set 분할"
      ]
    },
    {
      "cell_type": "code",
      "metadata": {
        "id": "b_xqo_dcKu5r"
      },
      "source": [
        "iris = load_iris()\n",
        "X = iris.data[:, :4] # 훈련 데이터 (2개의 특징만 사용), 3개의 특징을 사용하고 싶은 경우 iris.data[:, :3], 4개의 특징을 모두 사용하고 싶은 경우 iris.data[:, :4]\n",
        "y = iris.target\n",
        "\n",
        "# 성능 측정을 위한 train_test_split\n",
        "x_train, x_test, y_train, y_test = train_test_split(X, y, test_size=0.3, shuffle=True, stratify=y, random_state=30) # test_size: 테스트에 사용할 비율. 0 ~ 1.0 사이의 값"
      ],
      "execution_count": 2,
      "outputs": []
    },
    {
      "cell_type": "code",
      "metadata": {
        "colab": {
          "base_uri": "https://localhost:8080/"
        },
        "id": "fBOYDADPKuwF",
        "outputId": "944f6f90-0d81-45f8-e6e3-982abe1a8eb0"
      },
      "source": [
        "print(np.shape(x_train))\n",
        "print(np.shape(y_train))\n",
        "print(np.shape(x_test))\n",
        "print(np.shape(y_test))"
      ],
      "execution_count": 3,
      "outputs": [
        {
          "output_type": "stream",
          "name": "stdout",
          "text": [
            "(105, 4)\n",
            "(105,)\n",
            "(45, 4)\n",
            "(45,)\n"
          ]
        }
      ]
    },
    {
      "cell_type": "markdown",
      "metadata": {
        "id": "S8cC4KacLGcu"
      },
      "source": [
        "### 학습 / 결과분석"
      ]
    },
    {
      "cell_type": "code",
      "metadata": {
        "colab": {
          "base_uri": "https://localhost:8080/"
        },
        "id": "ooEgEf7qKutg",
        "outputId": "8c9786f3-5f90-4259-d121-2654420f7ff8"
      },
      "source": [
        "# Gaussian NB classifier 선언\n",
        "nb = GaussianNB()\n",
        "\n",
        "# Train 데이터로 학습 진행\n",
        "nb.fit(x_train, y_train)"
      ],
      "execution_count": 4,
      "outputs": [
        {
          "output_type": "execute_result",
          "data": {
            "text/plain": [
              "GaussianNB(priors=None, var_smoothing=1e-09)"
            ]
          },
          "metadata": {},
          "execution_count": 4
        }
      ]
    },
    {
      "cell_type": "code",
      "metadata": {
        "id": "GeGdIMp_KurH"
      },
      "source": [
        "# test set에 대한 예측(분류) 수행\n",
        "prediction = nb.predict(x_test)"
      ],
      "execution_count": 5,
      "outputs": []
    },
    {
      "cell_type": "code",
      "metadata": {
        "colab": {
          "base_uri": "https://localhost:8080/"
        },
        "id": "ogpP-WQFKuoU",
        "outputId": "f97b0ba6-6e15-4c8b-89ca-57bf5bf821e9"
      },
      "source": [
        "# test set에 대한 예측 결과\n",
        "prediction"
      ],
      "execution_count": 6,
      "outputs": [
        {
          "output_type": "execute_result",
          "data": {
            "text/plain": [
              "array([2, 0, 1, 1, 2, 0, 1, 0, 2, 2, 2, 0, 0, 0, 0, 2, 1, 2, 0, 0, 1, 0,\n",
              "       0, 2, 0, 0, 0, 1, 2, 1, 0, 1, 1, 2, 1, 1, 1, 1, 1, 1, 1, 2, 2, 2,\n",
              "       1])"
            ]
          },
          "metadata": {},
          "execution_count": 6
        }
      ]
    },
    {
      "cell_type": "code",
      "metadata": {
        "colab": {
          "base_uri": "https://localhost:8080/"
        },
        "id": "_XiLDcaxKugh",
        "outputId": "48ba88ba-1f1b-4990-f6e2-697c4bb4988d"
      },
      "source": [
        "# test set 정답 label\n",
        "y_test"
      ],
      "execution_count": 7,
      "outputs": [
        {
          "output_type": "execute_result",
          "data": {
            "text/plain": [
              "array([2, 0, 2, 1, 2, 0, 1, 0, 2, 2, 2, 0, 0, 0, 0, 2, 1, 2, 0, 0, 1, 0,\n",
              "       0, 2, 0, 0, 0, 1, 2, 1, 0, 1, 1, 2, 1, 2, 1, 1, 1, 2, 1, 2, 1, 2,\n",
              "       1])"
            ]
          },
          "metadata": {},
          "execution_count": 7
        }
      ]
    },
    {
      "cell_type": "code",
      "metadata": {
        "colab": {
          "base_uri": "https://localhost:8080/"
        },
        "id": "Ze0H-DZGLyhk",
        "outputId": "2d91c8f5-a2e6-4df6-cfc4-f480c632e631"
      },
      "source": [
        "# 정확도 (accuracy)\n",
        "(prediction==y_test).mean()"
      ],
      "execution_count": 8,
      "outputs": [
        {
          "output_type": "execute_result",
          "data": {
            "text/plain": [
              "0.9111111111111111"
            ]
          },
          "metadata": {},
          "execution_count": 8
        }
      ]
    },
    {
      "cell_type": "code",
      "metadata": {
        "id": "-Givk4KW6qKN"
      },
      "source": [
        "import seaborn as sns\n",
        "from sklearn.metrics import confusion_matrix"
      ],
      "execution_count": 9,
      "outputs": []
    },
    {
      "cell_type": "code",
      "metadata": {
        "colab": {
          "base_uri": "https://localhost:8080/",
          "height": 369
        },
        "id": "iMojZzUA58qz",
        "outputId": "400f5ce0-f448-460a-9201-3e03f0f5b276"
      },
      "source": [
        "# confusion matrix 그리기\n",
        "x_lab = iris.target_names\n",
        "y_lab = iris.target_names\n",
        "\n",
        "conf_matrix = confusion_matrix(y_test, prediction)\n",
        "#conf_matrix = conf_matrix.astype('float') / conf_matrix.sum(axis=1)[:, np.newaxis] # 갯수가 아닌 비율로 표시하고 싶을 경우 주석 해제\n",
        "plt.figure(figsize=(7,5)) # 그림의 size 지정\n",
        "aa = sns.heatmap(conf_matrix, xticklabels = x_lab, yticklabels = y_lab, annot=True, fmt=\".3f\", cmap=plt.cm.binary)#, vmin = 0.0, vmax = 1.0)\n",
        "plt.yticks(rotation='horizontal')\n",
        "plt.tight_layout()"
      ],
      "execution_count": 10,
      "outputs": [
        {
          "output_type": "display_data",
          "data": {
            "image/png": "[encoded data removed]",
            "text/plain": [
              "<Figure size 504x360 with 2 Axes>"
            ]
          },
          "metadata": {
            "needs_background": "light"
          }
        }
      ]
    },
    {
      "cell_type": "code",
      "metadata": {
        "colab": {
          "base_uri": "https://localhost:8080/"
        },
        "id": "h-KqLJ_96YwF",
        "outputId": "806eaa1b-7354-459d-da98-bc15e8e863a8"
      },
      "source": [
        "# precision, recall, F1\n",
        "from sklearn.metrics import classification_report\n",
        "\n",
        "print(classification_report(y_test, prediction, digits=4))"
      ],
      "execution_count": 11,
      "outputs": [
        {
          "output_type": "stream",
          "name": "stdout",
          "text": [
            "              precision    recall  f1-score   support\n",
            "\n",
            "           0     1.0000    1.0000    1.0000        15\n",
            "           1     0.8235    0.9333    0.8750        15\n",
            "           2     0.9231    0.8000    0.8571        15\n",
            "\n",
            "    accuracy                         0.9111        45\n",
            "   macro avg     0.9155    0.9111    0.9107        45\n",
            "weighted avg     0.9155    0.9111    0.9107        45\n",
            "\n"
          ]
        }
      ]
    },
    {
      "cell_type": "markdown",
      "metadata": {
        "id": "X19X1ejHMWdc"
      },
      "source": [
        "### 새로운 데이터에 대해 예측해보기"
      ]
    },
    {
      "cell_type": "code",
      "metadata": {
        "colab": {
          "base_uri": "https://localhost:8080/"
        },
        "id": "ZDwm7VUlMN8F",
        "outputId": "1761c196-ae96-4be5-c74f-9e75d2b68014"
      },
      "source": [
        "# iris 데이터 일부 관찰\n",
        "iris = load_iris()\n",
        "print(iris.data[:5])\n",
        "print(iris.target[:5])"
      ],
      "execution_count": 12,
      "outputs": [
        {
          "output_type": "stream",
          "name": "stdout",
          "text": [
            "[[5.1 3.5 1.4 0.2]\n",
            " [4.9 3.  1.4 0.2]\n",
            " [4.7 3.2 1.3 0.2]\n",
            " [4.6 3.1 1.5 0.2]\n",
            " [5.  3.6 1.4 0.2]]\n",
            "[0 0 0 0 0]\n"
          ]
        }
      ]
    },
    {
      "cell_type": "code",
      "metadata": {
        "colab": {
          "base_uri": "https://localhost:8080/"
        },
        "id": "2LZYGA8WMkMp",
        "outputId": "42b3e5bc-b7f9-4fcd-81ed-c14edc7956b3"
      },
      "source": [
        "# 새로운 데이터에 대해 예측\n",
        "nb.predict([[5.09, 3.51, 1.39, 0.195]])"
      ],
      "execution_count": 13,
      "outputs": [
        {
          "output_type": "execute_result",
          "data": {
            "text/plain": [
              "array([0])"
            ]
          },
          "metadata": {},
          "execution_count": 13
        }
      ]
    },
    {
      "cell_type": "code",
      "metadata": {
        "colab": {
          "base_uri": "https://localhost:8080/"
        },
        "id": "JQn5PurHMyd_",
        "outputId": "2910e32d-bcbd-476f-cce9-b4cb81d499b9"
      },
      "source": [
        "# 각 class label에 대한 확률 보기\n",
        "nb.predict_proba([[5.09, 3.51, 1.39, 0.195]])"
      ],
      "execution_count": 14,
      "outputs": [
        {
          "output_type": "execute_result",
          "data": {
            "text/plain": [
              "array([[1.00000000e+00, 1.07914175e-18, 8.37909119e-31]])"
            ]
          },
          "metadata": {},
          "execution_count": 14
        }
      ]
    }
  ]
}