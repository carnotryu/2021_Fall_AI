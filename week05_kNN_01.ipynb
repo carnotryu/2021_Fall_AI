{
  "nbformat": 4,
  "nbformat_minor": 0,
  "metadata": {
    "colab": {
      "name": "week05_kNN_01.ipynb",
      "provenance": [],
      "collapsed_sections": [],
      "authorship_tag": "ABX9TyNAbOyihp9y/+C/ZxXRyjea"
    },
    "kernelspec": {
      "name": "python3",
      "display_name": "Python 3"
    },
    "language_info": {
      "name": "python"
    }
  },
  "cells": [
    {
      "cell_type": "code",
      "metadata": {
        "id": "C9TFDnx0mvPP"
      },
      "source": [
        "# https://teddylee777.github.io/scikit-learn/KNeighborsClassifier%EB%A5%BC-%ED%99%9C%EC%9A%A9%ED%95%9C-%EB%B6%84%EB%A5%98%EA%B8%B0-%EC%A0%81%EC%9A%A9%ED%95%98%EA%B8%B0"
      ],
      "execution_count": 1,
      "outputs": []
    },
    {
      "cell_type": "markdown",
      "metadata": {
        "id": "xlO-lywVm-_N"
      },
      "source": [
        "### Import Packages and Modules"
      ]
    },
    {
      "cell_type": "code",
      "metadata": {
        "id": "spgWk2mjm9kj"
      },
      "source": [
        "import pandas as pd\n",
        "import numpy as np\n",
        "from sklearn.datasets import load_iris\n",
        "import matplotlib.pyplot as plt"
      ],
      "execution_count": 2,
      "outputs": []
    },
    {
      "cell_type": "markdown",
      "metadata": {
        "id": "PAeL54xpnCRM"
      },
      "source": [
        "### Iris 데이터 불러오기"
      ]
    },
    {
      "cell_type": "code",
      "metadata": {
        "id": "P4TaSJLqnBCR"
      },
      "source": [
        "iris = load_iris()"
      ],
      "execution_count": 3,
      "outputs": []
    },
    {
      "cell_type": "code",
      "metadata": {
        "colab": {
          "base_uri": "https://localhost:8080/"
        },
        "id": "xYW0cJX-nDsa",
        "outputId": "08620772-91a4-4fbf-820a-bae2d1f4585d"
      },
      "source": [
        "iris.keys()"
      ],
      "execution_count": 4,
      "outputs": [
        {
          "output_type": "execute_result",
          "data": {
            "text/plain": [
              "dict_keys(['data', 'target', 'target_names', 'DESCR', 'feature_names', 'filename'])"
            ]
          },
          "metadata": {},
          "execution_count": 4
        }
      ]
    },
    {
      "cell_type": "code",
      "metadata": {
        "colab": {
          "base_uri": "https://localhost:8080/"
        },
        "id": "tjuvRHQUnE8q",
        "outputId": "e6a47d69-681e-4ef3-d1a1-e846772270ac"
      },
      "source": [
        "iris.target_names"
      ],
      "execution_count": 5,
      "outputs": [
        {
          "output_type": "execute_result",
          "data": {
            "text/plain": [
              "array(['setosa', 'versicolor', 'virginica'], dtype='<U10')"
            ]
          },
          "metadata": {},
          "execution_count": 5
        }
      ]
    },
    {
      "cell_type": "code",
      "metadata": {
        "colab": {
          "base_uri": "https://localhost:8080/"
        },
        "id": "No0zlVN1nGCh",
        "outputId": "88d3f795-3bae-41ae-cca2-e78f1e447219"
      },
      "source": [
        "iris.feature_names"
      ],
      "execution_count": 6,
      "outputs": [
        {
          "output_type": "execute_result",
          "data": {
            "text/plain": [
              "['sepal length (cm)',\n",
              " 'sepal width (cm)',\n",
              " 'petal length (cm)',\n",
              " 'petal width (cm)']"
            ]
          },
          "metadata": {},
          "execution_count": 6
        }
      ]
    },
    {
      "cell_type": "code",
      "metadata": {
        "colab": {
          "base_uri": "https://localhost:8080/"
        },
        "id": "FjQALu3lnG4q",
        "outputId": "17242bf1-b07b-44a1-ed2e-d91dd26589a1"
      },
      "source": [
        "iris.data[:10]"
      ],
      "execution_count": 7,
      "outputs": [
        {
          "output_type": "execute_result",
          "data": {
            "text/plain": [
              "array([[5.1, 3.5, 1.4, 0.2],\n",
              "       [4.9, 3. , 1.4, 0.2],\n",
              "       [4.7, 3.2, 1.3, 0.2],\n",
              "       [4.6, 3.1, 1.5, 0.2],\n",
              "       [5. , 3.6, 1.4, 0.2],\n",
              "       [5.4, 3.9, 1.7, 0.4],\n",
              "       [4.6, 3.4, 1.4, 0.3],\n",
              "       [5. , 3.4, 1.5, 0.2],\n",
              "       [4.4, 2.9, 1.4, 0.2],\n",
              "       [4.9, 3.1, 1.5, 0.1]])"
            ]
          },
          "metadata": {},
          "execution_count": 7
        }
      ]
    },
    {
      "cell_type": "code",
      "metadata": {
        "colab": {
          "base_uri": "https://localhost:8080/"
        },
        "id": "teX9yO3InHzC",
        "outputId": "8b7534bc-c362-439b-cdf3-9eb94a089311"
      },
      "source": [
        "iris.target"
      ],
      "execution_count": 8,
      "outputs": [
        {
          "output_type": "execute_result",
          "data": {
            "text/plain": [
              "array([0, 0, 0, 0, 0, 0, 0, 0, 0, 0, 0, 0, 0, 0, 0, 0, 0, 0, 0, 0, 0, 0,\n",
              "       0, 0, 0, 0, 0, 0, 0, 0, 0, 0, 0, 0, 0, 0, 0, 0, 0, 0, 0, 0, 0, 0,\n",
              "       0, 0, 0, 0, 0, 0, 1, 1, 1, 1, 1, 1, 1, 1, 1, 1, 1, 1, 1, 1, 1, 1,\n",
              "       1, 1, 1, 1, 1, 1, 1, 1, 1, 1, 1, 1, 1, 1, 1, 1, 1, 1, 1, 1, 1, 1,\n",
              "       1, 1, 1, 1, 1, 1, 1, 1, 1, 1, 1, 1, 2, 2, 2, 2, 2, 2, 2, 2, 2, 2,\n",
              "       2, 2, 2, 2, 2, 2, 2, 2, 2, 2, 2, 2, 2, 2, 2, 2, 2, 2, 2, 2, 2, 2,\n",
              "       2, 2, 2, 2, 2, 2, 2, 2, 2, 2, 2, 2, 2, 2, 2, 2, 2, 2])"
            ]
          },
          "metadata": {},
          "execution_count": 8
        }
      ]
    },
    {
      "cell_type": "code",
      "metadata": {
        "colab": {
          "base_uri": "https://localhost:8080/"
        },
        "id": "C67zeMYInIqC",
        "outputId": "f608e42c-a176-4974-dcdb-ffa8688f6a6f"
      },
      "source": [
        "len(iris.data)"
      ],
      "execution_count": 9,
      "outputs": [
        {
          "output_type": "execute_result",
          "data": {
            "text/plain": [
              "150"
            ]
          },
          "metadata": {},
          "execution_count": 9
        }
      ]
    },
    {
      "cell_type": "markdown",
      "metadata": {
        "id": "qysIcMIrnK_o"
      },
      "source": [
        "### 두 개의 feature만 사용(Sepal length and width)할 경우 data plot 해보기"
      ]
    },
    {
      "cell_type": "code",
      "metadata": {
        "colab": {
          "base_uri": "https://localhost:8080/",
          "height": 388
        },
        "id": "kTZI9woOnJkK",
        "outputId": "f5b147e7-f266-4765-ef9a-8b0341798216"
      },
      "source": [
        "# here we only select sepal length and width (select first 2 columns)\n",
        "X = iris.data[:, :2]\n",
        "y = iris.target\n",
        "\n",
        "# visualization을 위하여 각 축의 limit 설정\n",
        "x_min, x_max = X[:, 0].min() - .5, X[:, 0].max() + .5\n",
        "y_min, y_max = X[:, 1].min() - .5, X[:, 1].max() + .5\n",
        "\n",
        "plt.figure(figsize=(8, 6))\n",
        "\n",
        "# Plot the training points\n",
        "plt.scatter(X[:, 0], X[:, 1], c=y, cmap=plt.cm.Set1, edgecolor='k')\n",
        "plt.xlabel('Sepal length')\n",
        "plt.ylabel('Sepal width')\n",
        "plt.xlim(x_min, x_max)\n",
        "plt.ylim(y_min, y_max)\n",
        "\n",
        "\n",
        "plt.show()"
      ],
      "execution_count": 10,
      "outputs": [
        {
          "output_type": "display_data",
          "data": {
            "image/png": "[encoded data removed]",
            "text/plain": [
              "<Figure size 576x432 with 1 Axes>"
            ]
          },
          "metadata": {
            "needs_background": "light"
          }
        }
      ]
    },
    {
      "cell_type": "markdown",
      "metadata": {
        "id": "gal1ZGGUnN2E"
      },
      "source": [
        "### sklearn 라이브러리를 이용한 KNN 수행"
      ]
    },
    {
      "cell_type": "code",
      "metadata": {
        "id": "ZAKk595hnM2i"
      },
      "source": [
        "# 필요한 library import\n",
        "import pandas as pd\n",
        "import numpy as np\n",
        "from sklearn.datasets import load_iris\n",
        "import matplotlib.pyplot as plt\n",
        "from sklearn.neighbors import KNeighborsClassifier\n",
        "from sklearn.model_selection import train_test_split, cross_val_score"
      ],
      "execution_count": 11,
      "outputs": []
    },
    {
      "cell_type": "code",
      "metadata": {
        "id": "T7hv8ScDnP7S"
      },
      "source": [
        "iris = load_iris()\n",
        "X = iris.data[:, :2] # 훈련 데이터 (2개의 특징만 사용), 3개의 특징을 사용하고 싶은 경우 iris.data[:, :3], 4개의 특징을 모두 사용하고 싶은 경우 iris.data[:, :4]\n",
        "y = iris.target\n",
        "\n",
        "# 성능 측정을 위한 train_test_split\n",
        "x_train, x_test, y_train, y_test = train_test_split(X, y, test_size=0.3, shuffle=True, stratify=y, random_state=30) # test_size: 테스트에 사용할 비율. 0 ~ 1.0 사이의 값"
      ],
      "execution_count": 12,
      "outputs": []
    },
    {
      "cell_type": "code",
      "metadata": {
        "colab": {
          "base_uri": "https://localhost:8080/"
        },
        "id": "QBAJOnCBnRoS",
        "outputId": "cf90f395-c65c-461e-f680-ff236cfe5f14"
      },
      "source": [
        "print(np.shape(x_train))\n",
        "print(np.shape(y_train))\n",
        "print(np.shape(x_test))\n",
        "print(np.shape(y_test))"
      ],
      "execution_count": 13,
      "outputs": [
        {
          "output_type": "stream",
          "name": "stdout",
          "text": [
            "(105, 2)\n",
            "(105,)\n",
            "(45, 2)\n",
            "(45,)\n"
          ]
        }
      ]
    },
    {
      "cell_type": "code",
      "metadata": {
        "colab": {
          "base_uri": "https://localhost:8080/"
        },
        "id": "vKfgJ9fTnSty",
        "outputId": "74ad1562-0743-4198-d300-095dbf921f40"
      },
      "source": [
        "clf = KNeighborsClassifier(n_neighbors=5) # k 값 설정 (n_neighbors)\n",
        "clf.fit(x_train, y_train)"
      ],
      "execution_count": 14,
      "outputs": [
        {
          "output_type": "execute_result",
          "data": {
            "text/plain": [
              "KNeighborsClassifier(algorithm='auto', leaf_size=30, metric='minkowski',\n",
              "                     metric_params=None, n_jobs=None, n_neighbors=5, p=2,\n",
              "                     weights='uniform')"
            ]
          },
          "metadata": {},
          "execution_count": 14
        }
      ]
    },
    {
      "cell_type": "code",
      "metadata": {
        "id": "2bezJm4-nUb6"
      },
      "source": [
        "# test set에 대한 예측해보기\n",
        "prediction = clf.predict(x_test)"
      ],
      "execution_count": 15,
      "outputs": []
    },
    {
      "cell_type": "code",
      "metadata": {
        "colab": {
          "base_uri": "https://localhost:8080/"
        },
        "id": "XzH-_ipYnVWq",
        "outputId": "5db994f6-bd42-41c3-dbee-df087b4cdf32"
      },
      "source": [
        "# test set에 대한 예측 결과\n",
        "prediction"
      ],
      "execution_count": 16,
      "outputs": [
        {
          "output_type": "execute_result",
          "data": {
            "text/plain": [
              "array([1, 0, 1, 1, 2, 0, 1, 0, 2, 2, 2, 0, 0, 0, 0, 1, 1, 2, 0, 0, 1, 0,\n",
              "       0, 2, 0, 0, 0, 1, 2, 1, 0, 1, 1, 2, 2, 1, 2, 1, 1, 1, 2, 2, 2, 2,\n",
              "       1])"
            ]
          },
          "metadata": {},
          "execution_count": 16
        }
      ]
    },
    {
      "cell_type": "code",
      "metadata": {
        "colab": {
          "base_uri": "https://localhost:8080/"
        },
        "id": "MvDfhtljnWfK",
        "outputId": "12f6fcad-a3df-42cb-a30f-5cec6e3b0555"
      },
      "source": [
        "# test set의 정답\n",
        "y_test"
      ],
      "execution_count": 17,
      "outputs": [
        {
          "output_type": "execute_result",
          "data": {
            "text/plain": [
              "array([2, 0, 2, 1, 2, 0, 1, 0, 2, 2, 2, 0, 0, 0, 0, 2, 1, 2, 0, 0, 1, 0,\n",
              "       0, 2, 0, 0, 0, 1, 2, 1, 0, 1, 1, 2, 1, 2, 1, 1, 1, 2, 1, 2, 1, 2,\n",
              "       1])"
            ]
          },
          "metadata": {},
          "execution_count": 17
        }
      ]
    },
    {
      "cell_type": "code",
      "metadata": {
        "colab": {
          "base_uri": "https://localhost:8080/"
        },
        "id": "AqcoAmaCnYJy",
        "outputId": "9959bf15-2994-40b8-a478-ae5ded81ed7d"
      },
      "source": [
        "# 정확도 (accuracy)\n",
        "(prediction==y_test).mean()"
      ],
      "execution_count": 18,
      "outputs": [
        {
          "output_type": "execute_result",
          "data": {
            "text/plain": [
              "0.8"
            ]
          },
          "metadata": {},
          "execution_count": 18
        }
      ]
    },
    {
      "cell_type": "markdown",
      "metadata": {
        "id": "IJme3miqnabD"
      },
      "source": [
        "### 적절한 k value 찾아보기"
      ]
    },
    {
      "cell_type": "code",
      "metadata": {
        "id": "U40CQ34nnZHS"
      },
      "source": [
        "# k값에 따른 정확도를 저장할 변수\n",
        "#train_acc = []\n",
        "test_acc = []\n",
        "\n",
        "# k = 1 ~ 30 까지 각각 KNN 수행 및 정확도를 저장\n",
        "limit = 30 # 수행할 k의 값 설정\n",
        "\n",
        "for n in range(1,limit+1):\n",
        "    clf = KNeighborsClassifier(n_neighbors=n)\n",
        "    clf.fit(x_train, y_train)\n",
        "    prediction = clf.predict(x_test)\n",
        "    #train_acc.append(clf.score(x_train, y_train))\n",
        "    test_acc.append((prediction==y_test).mean())"
      ],
      "execution_count": 19,
      "outputs": []
    },
    {
      "cell_type": "code",
      "metadata": {
        "colab": {
          "base_uri": "https://localhost:8080/",
          "height": 570
        },
        "id": "RukM6hBRncOK",
        "outputId": "55506580-1cb2-4b7c-cbd8-028b2a0d1bef"
      },
      "source": [
        "plt.figure(figsize=(12, 9))\n",
        "#plt.plot(range(1, limit+1), train_acc, label='TRAIN set')\n",
        "plt.plot(range(1, limit+1), test_acc, 'ko-', label='TEST set')\n",
        "plt.xlabel(\"n_neighbors\")\n",
        "plt.ylabel(\"accuracy\")\n",
        "plt.xticks(np.arange(0, limit+1, step=1))\n",
        "plt.grid()\n",
        "plt.legend()"
      ],
      "execution_count": 20,
      "outputs": [
        {
          "output_type": "execute_result",
          "data": {
            "text/plain": [
              "<matplotlib.legend.Legend at 0x7f570ba5dc50>"
            ]
          },
          "metadata": {},
          "execution_count": 20
        },
        {
          "output_type": "display_data",
          "data": {
            "image/png": "[encoded data removed]",
            "text/plain": [
              "<Figure size 864x648 with 1 Axes>"
            ]
          },
          "metadata": {
            "needs_background": "light"
          }
        }
      ]
    },
    {
      "cell_type": "markdown",
      "metadata": {
        "id": "yVxXU9maneXC"
      },
      "source": [
        "### 성능 평가해보기 (confusion matrix, etc.)"
      ]
    },
    {
      "cell_type": "code",
      "metadata": {
        "colab": {
          "base_uri": "https://localhost:8080/"
        },
        "id": "JxgBrXU3ndYy",
        "outputId": "19fcf404-0fc5-4fd9-adab-a0b95aed6cba"
      },
      "source": [
        "clf = KNeighborsClassifier(n_neighbors=7) # k 값 설정 (n_neighbors)\n",
        "clf.fit(x_train, y_train)"
      ],
      "execution_count": 21,
      "outputs": [
        {
          "output_type": "execute_result",
          "data": {
            "text/plain": [
              "KNeighborsClassifier(algorithm='auto', leaf_size=30, metric='minkowski',\n",
              "                     metric_params=None, n_jobs=None, n_neighbors=7, p=2,\n",
              "                     weights='uniform')"
            ]
          },
          "metadata": {},
          "execution_count": 21
        }
      ]
    },
    {
      "cell_type": "code",
      "metadata": {
        "id": "HtU4TkQongyy"
      },
      "source": [
        "# test set에 대한 예측해보기\n",
        "prediction = clf.predict(x_test)"
      ],
      "execution_count": 22,
      "outputs": []
    },
    {
      "cell_type": "code",
      "metadata": {
        "colab": {
          "base_uri": "https://localhost:8080/"
        },
        "id": "1ai9lJx3njq6",
        "outputId": "50bc00e4-4c93-4de6-fde9-838daf9a0106"
      },
      "source": [
        "# test set에 대한 예측 결과\n",
        "prediction"
      ],
      "execution_count": 23,
      "outputs": [
        {
          "output_type": "execute_result",
          "data": {
            "text/plain": [
              "array([1, 0, 1, 1, 2, 0, 1, 0, 2, 2, 2, 0, 0, 0, 0, 1, 1, 2, 0, 0, 1, 0,\n",
              "       0, 2, 0, 0, 0, 1, 2, 1, 0, 1, 1, 2, 2, 1, 1, 1, 1, 1, 1, 2, 2, 2,\n",
              "       1])"
            ]
          },
          "metadata": {},
          "execution_count": 23
        }
      ]
    },
    {
      "cell_type": "code",
      "metadata": {
        "colab": {
          "base_uri": "https://localhost:8080/"
        },
        "id": "dUPCZSpEnkyy",
        "outputId": "9055ed43-0afb-48b2-dba9-755d00aa01e2"
      },
      "source": [
        "# test set의 정답\n",
        "y_test"
      ],
      "execution_count": 24,
      "outputs": [
        {
          "output_type": "execute_result",
          "data": {
            "text/plain": [
              "array([2, 0, 2, 1, 2, 0, 1, 0, 2, 2, 2, 0, 0, 0, 0, 2, 1, 2, 0, 0, 1, 0,\n",
              "       0, 2, 0, 0, 0, 1, 2, 1, 0, 1, 1, 2, 1, 2, 1, 1, 1, 2, 1, 2, 1, 2,\n",
              "       1])"
            ]
          },
          "metadata": {},
          "execution_count": 24
        }
      ]
    },
    {
      "cell_type": "code",
      "metadata": {
        "colab": {
          "base_uri": "https://localhost:8080/"
        },
        "id": "QJUbdffXnsYp",
        "outputId": "34122ead-a152-48ba-ecbb-388f4615c6b1"
      },
      "source": [
        "# 정확도 (accuracy)\n",
        "(prediction==y_test).mean()"
      ],
      "execution_count": 25,
      "outputs": [
        {
          "output_type": "execute_result",
          "data": {
            "text/plain": [
              "0.8444444444444444"
            ]
          },
          "metadata": {},
          "execution_count": 25
        }
      ]
    },
    {
      "cell_type": "code",
      "metadata": {
        "id": "jeZKKl52ntXU"
      },
      "source": [
        "import seaborn as sns\n",
        "from sklearn.metrics import confusion_matrix"
      ],
      "execution_count": 26,
      "outputs": []
    },
    {
      "cell_type": "code",
      "metadata": {
        "colab": {
          "base_uri": "https://localhost:8080/",
          "height": 369
        },
        "id": "44Y3pxpcnuqy",
        "outputId": "7f313aa0-7218-4061-a44c-f4e4b068c989"
      },
      "source": [
        "# confusion matrix 그리기\n",
        "x_lab = iris.target_names\n",
        "y_lab = iris.target_names\n",
        "\n",
        "conf_matrix = confusion_matrix(y_test, prediction)\n",
        "#conf_matrix = conf_matrix.astype('float') / conf_matrix.sum(axis=1)[:, np.newaxis] # 갯수가 아닌 비율로 표시하고 싶을 경우 주석 해제\n",
        "plt.figure(figsize=(7,5)) # 그림의 size 지정\n",
        "aa = sns.heatmap(conf_matrix, xticklabels = x_lab, yticklabels = y_lab, annot=True, fmt=\".3f\", cmap=plt.cm.binary)#, vmin = 0.0, vmax = 1.0)\n",
        "plt.yticks(rotation='horizontal')\n",
        "plt.tight_layout()"
      ],
      "execution_count": 27,
      "outputs": [
        {
          "output_type": "display_data",
          "data": {
            "image/png": "[encoded data removed]",
            "text/plain": [
              "<Figure size 504x360 with 2 Axes>"
            ]
          },
          "metadata": {
            "needs_background": "light"
          }
        }
      ]
    },
    {
      "cell_type": "code",
      "metadata": {
        "colab": {
          "base_uri": "https://localhost:8080/"
        },
        "id": "i6Cuy9TPnv-K",
        "outputId": "35418ef4-a13b-4e3c-980d-7b475552750d"
      },
      "source": [
        "# precision, recall, F1\n",
        "from sklearn.metrics import classification_report\n",
        "\n",
        "print(classification_report(y_test, prediction, digits=4))"
      ],
      "execution_count": 28,
      "outputs": [
        {
          "output_type": "stream",
          "name": "stdout",
          "text": [
            "              precision    recall  f1-score   support\n",
            "\n",
            "           0     1.0000    1.0000    1.0000        15\n",
            "           1     0.7222    0.8667    0.7879        15\n",
            "           2     0.8333    0.6667    0.7407        15\n",
            "\n",
            "    accuracy                         0.8444        45\n",
            "   macro avg     0.8519    0.8444    0.8429        45\n",
            "weighted avg     0.8519    0.8444    0.8429        45\n",
            "\n"
          ]
        }
      ]
    }
  ]
}