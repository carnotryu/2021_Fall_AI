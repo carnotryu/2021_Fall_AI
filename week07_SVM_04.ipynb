{
  "nbformat": 4,
  "nbformat_minor": 0,
  "metadata": {
    "colab": {
      "name": "week07_SVM_04.ipynb",
      "provenance": [],
      "collapsed_sections": [],
      "authorship_tag": "ABX9TyO/PNV966A8cK3HH1p61obE"
    },
    "kernelspec": {
      "name": "python3",
      "display_name": "Python 3"
    },
    "language_info": {
      "name": "python"
    }
  },
  "cells": [
    {
      "cell_type": "code",
      "metadata": {
        "id": "O9NWmbHdvqLJ"
      },
      "source": [
        "import pandas as pd\n",
        "import numpy as np\n",
        "from sklearn.datasets import load_iris\n",
        "import matplotlib.pyplot as plt\n",
        "from sklearn.model_selection import train_test_split\n",
        "from sklearn import svm"
      ],
      "execution_count": 1,
      "outputs": []
    },
    {
      "cell_type": "markdown",
      "metadata": {
        "id": "1jur1PVoOgFG"
      },
      "source": [
        "### Iris 데이터 불러오기, Train/Test set 분할"
      ]
    },
    {
      "cell_type": "code",
      "metadata": {
        "id": "uacEoApVObNO"
      },
      "source": [
        "iris = load_iris()\n",
        "X = iris.data[:, :4] # 훈련 데이터 (2개의 특징만 사용), 3개의 특징을 사용하고 싶은 경우 iris.data[:, :3], 4개의 특징을 모두 사용하고 싶은 경우 iris.data[:, :4]\n",
        "y = iris.target\n",
        "\n",
        "# 성능 측정을 위한 train_test_split\n",
        "x_train, x_test, y_train, y_test = train_test_split(X, y, test_size=0.3, shuffle=True, stratify=y, random_state=30) # test_size: 테스트에 사용할 비율. 0 ~ 1.0 사이의 값"
      ],
      "execution_count": 2,
      "outputs": []
    },
    {
      "cell_type": "code",
      "metadata": {
        "colab": {
          "base_uri": "https://localhost:8080/"
        },
        "id": "NX4xoI0jObK9",
        "outputId": "dfecfcc1-47df-4cde-80ba-6ea0009cb40a"
      },
      "source": [
        "print(np.shape(x_train))\n",
        "print(np.shape(y_train))\n",
        "print(np.shape(x_test))\n",
        "print(np.shape(y_test))"
      ],
      "execution_count": 3,
      "outputs": [
        {
          "output_type": "stream",
          "name": "stdout",
          "text": [
            "(105, 4)\n",
            "(105,)\n",
            "(45, 4)\n",
            "(45,)\n"
          ]
        }
      ]
    },
    {
      "cell_type": "code",
      "metadata": {
        "colab": {
          "base_uri": "https://localhost:8080/"
        },
        "id": "ofKRxISVObIv",
        "outputId": "bb5abfd9-a335-499a-b777-6df2f65ffb07"
      },
      "source": [
        "x_train[:5]"
      ],
      "execution_count": 4,
      "outputs": [
        {
          "output_type": "execute_result",
          "data": {
            "text/plain": [
              "array([[5.2, 3.4, 1.4, 0.2],\n",
              "       [5.8, 2.7, 3.9, 1.2],\n",
              "       [6.3, 3.3, 4.7, 1.6],\n",
              "       [6.3, 2.8, 5.1, 1.5],\n",
              "       [6.4, 2.7, 5.3, 1.9]])"
            ]
          },
          "metadata": {},
          "execution_count": 4
        }
      ]
    },
    {
      "cell_type": "code",
      "metadata": {
        "colab": {
          "base_uri": "https://localhost:8080/"
        },
        "id": "1I13hRsfObF_",
        "outputId": "5259ee82-7d6c-436c-c39d-75e31755c1e0"
      },
      "source": [
        "y_train[:5]"
      ],
      "execution_count": 5,
      "outputs": [
        {
          "output_type": "execute_result",
          "data": {
            "text/plain": [
              "array([0, 1, 1, 2, 2])"
            ]
          },
          "metadata": {},
          "execution_count": 5
        }
      ]
    },
    {
      "cell_type": "code",
      "metadata": {
        "colab": {
          "base_uri": "https://localhost:8080/"
        },
        "id": "7vZhTgioObDR",
        "outputId": "315992c7-47ae-4b7c-b29b-d4d5b7eae188"
      },
      "source": [
        "x_test[:5]"
      ],
      "execution_count": 6,
      "outputs": [
        {
          "output_type": "execute_result",
          "data": {
            "text/plain": [
              "array([[5.7, 2.5, 5. , 2. ],\n",
              "       [5. , 3.2, 1.2, 0.2],\n",
              "       [6.1, 2.6, 5.6, 1.4],\n",
              "       [5.6, 2.5, 3.9, 1.1],\n",
              "       [6.4, 3.2, 5.3, 2.3]])"
            ]
          },
          "metadata": {},
          "execution_count": 6
        }
      ]
    },
    {
      "cell_type": "code",
      "metadata": {
        "colab": {
          "base_uri": "https://localhost:8080/"
        },
        "id": "9nLDAk1vOmT4",
        "outputId": "e5518fcc-df03-41a0-92c6-5188527ea5bb"
      },
      "source": [
        "y_test[:5]"
      ],
      "execution_count": 7,
      "outputs": [
        {
          "output_type": "execute_result",
          "data": {
            "text/plain": [
              "array([2, 0, 2, 1, 2])"
            ]
          },
          "metadata": {},
          "execution_count": 7
        }
      ]
    },
    {
      "cell_type": "markdown",
      "metadata": {
        "id": "9alp1MMxOtO6"
      },
      "source": [
        "### 학습 / 결과분석"
      ]
    },
    {
      "cell_type": "code",
      "metadata": {
        "colab": {
          "base_uri": "https://localhost:8080/"
        },
        "id": "WwA1ohuCOmR3",
        "outputId": "940d8d2f-539f-4ce8-b594-0e222be53352"
      },
      "source": [
        "clf = svm.SVC(kernel='rbf', C=1.0, gamma=0.1) # C와 gamma 값 변경해보기\n",
        "clf.fit(x_train, y_train)"
      ],
      "execution_count": 8,
      "outputs": [
        {
          "output_type": "execute_result",
          "data": {
            "text/plain": [
              "SVC(C=1.0, break_ties=False, cache_size=200, class_weight=None, coef0=0.0,\n",
              "    decision_function_shape='ovr', degree=3, gamma=0.1, kernel='rbf',\n",
              "    max_iter=-1, probability=False, random_state=None, shrinking=True,\n",
              "    tol=0.001, verbose=False)"
            ]
          },
          "metadata": {},
          "execution_count": 8
        }
      ]
    },
    {
      "cell_type": "code",
      "metadata": {
        "id": "MYHhe-sWOmPZ"
      },
      "source": [
        "# test set에 대한 예측(분류) 수행\n",
        "prediction = clf.predict(x_test)"
      ],
      "execution_count": 9,
      "outputs": []
    },
    {
      "cell_type": "code",
      "metadata": {
        "colab": {
          "base_uri": "https://localhost:8080/"
        },
        "id": "CuUYSihMOmNH",
        "outputId": "91206a7f-0992-43fc-f523-c9306159defe"
      },
      "source": [
        "# test set에 대한 예측 결과\n",
        "prediction"
      ],
      "execution_count": 10,
      "outputs": [
        {
          "output_type": "execute_result",
          "data": {
            "text/plain": [
              "array([2, 0, 2, 1, 2, 0, 1, 0, 2, 2, 2, 0, 0, 0, 0, 2, 1, 2, 0, 0, 2, 0,\n",
              "       0, 2, 0, 0, 0, 1, 2, 1, 0, 1, 1, 2, 1, 1, 1, 1, 1, 2, 1, 2, 2, 2,\n",
              "       1])"
            ]
          },
          "metadata": {},
          "execution_count": 10
        }
      ]
    },
    {
      "cell_type": "code",
      "metadata": {
        "colab": {
          "base_uri": "https://localhost:8080/"
        },
        "id": "5r50VjeVOmLG",
        "outputId": "7e4a4a71-3ad0-4914-ca49-5553f25a504a"
      },
      "source": [
        "# test set 정답 label\n",
        "y_test"
      ],
      "execution_count": 11,
      "outputs": [
        {
          "output_type": "execute_result",
          "data": {
            "text/plain": [
              "array([2, 0, 2, 1, 2, 0, 1, 0, 2, 2, 2, 0, 0, 0, 0, 2, 1, 2, 0, 0, 1, 0,\n",
              "       0, 2, 0, 0, 0, 1, 2, 1, 0, 1, 1, 2, 1, 2, 1, 1, 1, 2, 1, 2, 1, 2,\n",
              "       1])"
            ]
          },
          "metadata": {},
          "execution_count": 11
        }
      ]
    },
    {
      "cell_type": "code",
      "metadata": {
        "colab": {
          "base_uri": "https://localhost:8080/"
        },
        "id": "ewOx2Zr_OmIS",
        "outputId": "9954a7fd-5a06-4165-89a9-3646cbfa4eda"
      },
      "source": [
        "# 정확도 (accuracy)\n",
        "(prediction==y_test).mean()"
      ],
      "execution_count": 12,
      "outputs": [
        {
          "output_type": "execute_result",
          "data": {
            "text/plain": [
              "0.9333333333333333"
            ]
          },
          "metadata": {},
          "execution_count": 12
        }
      ]
    },
    {
      "cell_type": "code",
      "metadata": {
        "id": "5GHnb2hvPCs0"
      },
      "source": [
        "import seaborn as sns\n",
        "from sklearn.metrics import confusion_matrix"
      ],
      "execution_count": 13,
      "outputs": []
    },
    {
      "cell_type": "code",
      "metadata": {
        "colab": {
          "base_uri": "https://localhost:8080/",
          "height": 369
        },
        "id": "jV1LBEf5PClC",
        "outputId": "1d3ad416-ffeb-4d3f-d907-f914e35179c2"
      },
      "source": [
        "# confusion matrix 그리기\n",
        "x_lab = iris.target_names\n",
        "y_lab = iris.target_names\n",
        "\n",
        "conf_matrix = confusion_matrix(y_test, prediction)\n",
        "#conf_matrix = conf_matrix.astype('float') / conf_matrix.sum(axis=1)[:, np.newaxis] # 갯수가 아닌 비율로 표시하고 싶을 경우 주석 해제\n",
        "plt.figure(figsize=(7,5)) # 그림의 size 지정\n",
        "aa = sns.heatmap(conf_matrix, xticklabels = x_lab, yticklabels = y_lab, annot=True, fmt=\".3f\", cmap=plt.cm.binary)#, vmin = 0.0, vmax = 1.0)\n",
        "plt.yticks(rotation='horizontal')\n",
        "plt.tight_layout()"
      ],
      "execution_count": 14,
      "outputs": [
        {
          "output_type": "display_data",
          "data": {
            "image/png": "[encoded data removed]",
            "text/plain": [
              "<Figure size 504x360 with 2 Axes>"
            ]
          },
          "metadata": {
            "needs_background": "light"
          }
        }
      ]
    },
    {
      "cell_type": "code",
      "metadata": {
        "colab": {
          "base_uri": "https://localhost:8080/"
        },
        "id": "LEGIHjvePJa5",
        "outputId": "5ce1560c-3bf3-485f-afbb-39477b4b694e"
      },
      "source": [
        "# precision, recall, F1\n",
        "from sklearn.metrics import classification_report\n",
        "\n",
        "print(classification_report(y_test, prediction, digits=4))"
      ],
      "execution_count": 15,
      "outputs": [
        {
          "output_type": "stream",
          "name": "stdout",
          "text": [
            "              precision    recall  f1-score   support\n",
            "\n",
            "           0     1.0000    1.0000    1.0000        15\n",
            "           1     0.9286    0.8667    0.8966        15\n",
            "           2     0.8750    0.9333    0.9032        15\n",
            "\n",
            "    accuracy                         0.9333        45\n",
            "   macro avg     0.9345    0.9333    0.9333        45\n",
            "weighted avg     0.9345    0.9333    0.9333        45\n",
            "\n"
          ]
        }
      ]
    }
  ]
}